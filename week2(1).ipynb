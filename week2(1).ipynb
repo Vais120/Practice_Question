{
 "cells": [
  {
   "cell_type": "markdown",
   "id": "3b6f150f-d168-4b61-b9c5-8e682f701380",
   "metadata": {},
   "source": [
    "### Question 1"
   ]
  },
  {
   "cell_type": "code",
   "execution_count": 4,
   "id": "3fb3c4dc-9724-4b4b-b37c-c808ec66d4b6",
   "metadata": {},
   "outputs": [
    {
     "name": "stdout",
     "output_type": "stream",
     "text": [
      "Total number of vowels: 9\n",
      "Vowel counts: {'a': 1, 'e': 3, 'i': 1, 'o': 4, 'u': 0}\n"
     ]
    }
   ],
   "source": [
    "def counter(text):\n",
    "    vowels = \"aeiou\"\n",
    "    count = {\"a\": 0, \"e\": 0, \"i\": 0, \"o\": 0, \"u\": 0}\n",
    "    total = 0\n",
    "\n",
    "    for char in text.lower():\n",
    "        if char in vowels:\n",
    "            count[char] += 1\n",
    "            total = total + 1\n",
    "\n",
    "    print(\"Total number of vowels:\", total)\n",
    "    print(\"Vowel counts:\", count)\n",
    "counter(\"Hello World, Python is Awesome!\")\n"
   ]
  },
  {
   "cell_type": "markdown",
   "id": "f536e020-2857-4555-9ef0-d1d8040ee9f4",
   "metadata": {},
   "source": [
    "### Question 2"
   ]
  },
  {
   "cell_type": "code",
   "execution_count": 6,
   "id": "efdaef4b-86f0-4597-abeb-92abf248612e",
   "metadata": {},
   "outputs": [
    {
     "name": "stdout",
     "output_type": "stream",
     "text": [
      "Palindrome\n",
      "Not a palindrome\n"
     ]
    }
   ],
   "source": [
    "def palindrome(text):\n",
    "    rev = []\n",
    "    for ch in text:\n",
    "        rev.insert(0, ch)\n",
    "    if text == ''.join(rev):\n",
    "        print(\"Palindrome\")\n",
    "    else:\n",
    "        print(\"Not a palindrome\")\n",
    "palindrome(\"madam\")\n",
    "palindrome(\"hello\")\n"
   ]
  },
  {
   "cell_type": "markdown",
   "id": "1a592a4d-509c-4898-ab3e-c8d6c56e0eab",
   "metadata": {},
   "source": [
    "### Question 3 "
   ]
  },
  {
   "cell_type": "code",
   "execution_count": 7,
   "id": "0854d241-2f06-495f-b2a7-53dfbfd8c56c",
   "metadata": {},
   "outputs": [
    {
     "name": "stdout",
     "output_type": "stream",
     "text": [
      "Character Frequency: {'h': 1, 'e': 1, 'l': 3, 'o': 2, ' ': 1, 'w': 1, 'r': 1, 'd': 1}\n"
     ]
    }
   ],
   "source": [
    "def frequency(text):\n",
    "    freq = {}\n",
    "\n",
    "    for ch in text:\n",
    "        if ch in freq:\n",
    "            freq[ch] += 1\n",
    "        else:\n",
    "            freq[ch] = 1\n",
    "    print(\"Character Frequency:\", freq)\n",
    "frequency(\"hello world\")\n"
   ]
  },
  {
   "cell_type": "markdown",
   "id": "869a15df-b55c-4619-a6b5-69e8f597df80",
   "metadata": {},
   "source": [
    "### Question 4"
   ]
  },
  {
   "cell_type": "code",
   "execution_count": 11,
   "id": "44f5b6c8-d9fe-4d7d-925b-1d11561d0a78",
   "metadata": {},
   "outputs": [
    {
     "name": "stdout",
     "output_type": "stream",
     "text": [
      "Short words: ['is', 'a', 'and', 'easy', 'to']\n",
      "Medium words: ['Python', 'powerful', 'learn', 'language']\n",
      "Long words: ['programming']\n"
     ]
    }
   ],
   "source": [
    "def word_lengths(sentence):\n",
    "    words = sentence.split()\n",
    "    short = []\n",
    "    medium = []\n",
    "    long = []\n",
    "\n",
    "    for i in words:\n",
    "        if len(i) < 5:\n",
    "            short.append(i)\n",
    "        elif 5 <= len(i) <= 8:\n",
    "            medium.append(i)\n",
    "        else:\n",
    "            long.append(i)\n",
    "\n",
    "    print(\"Short words:\", short)\n",
    "    print(\"Medium words:\", medium)\n",
    "    print(\"Long words:\", long)\n",
    "word_lengths(\"Python is a powerful and easy to learn programming language\")\n"
   ]
  },
  {
   "cell_type": "markdown",
   "id": "f21d4202-1971-4804-8eb0-36f4638bfedc",
   "metadata": {},
   "source": [
    "### Question 5"
   ]
  },
  {
   "cell_type": "code",
   "execution_count": 13,
   "id": "23a42e9f-a5fe-41a8-92cc-2f60932041df",
   "metadata": {},
   "outputs": [
    {
     "name": "stdout",
     "output_type": "stream",
     "text": [
      "strings: ['python', 'pythonthon', 'pyrockthon']\n"
     ]
    }
   ],
   "source": [
    "def matching_strings(strings):\n",
    "    match_strings = []\n",
    "    for i in strings:\n",
    "        if i.startswith(\"py\") and i.endswith(\"thon\"):\n",
    "            match_strings.append(i)\n",
    "\n",
    "    print(\"strings:\", match_strings)\n",
    "words = [\"python\", \"pythonic\", \"pythonthon\", \"pyfoo\", \"barthon\", \"pyrockthon\"]\n",
    "matching_strings(words)\n"
   ]
  },
  {
   "cell_type": "markdown",
   "id": "6241a3dc-f5c4-41c5-89d8-7e50b0c18a1b",
   "metadata": {},
   "source": [
    "### Question 6"
   ]
  },
  {
   "cell_type": "code",
   "execution_count": 17,
   "id": "bf581bc8-9e74-4339-b2a2-74c1a4d2949e",
   "metadata": {},
   "outputs": [
    {
     "name": "stdout",
     "output_type": "stream",
     "text": [
      "Unique words: ['a', 'hello', 'is', 'paragraph', 'python', 'repeated', 'simple', 'some', 'this', 'with', 'words', 'world']\n"
     ]
    }
   ],
   "source": [
    "def extract_unique_words(text):\n",
    "    text = text.lower()\n",
    "    for ch in \",.!?;:-()\\\"'\":\n",
    "        text = text.replace(ch, \"\")\n",
    "    words = text.split()\n",
    "    unique_words = set()\n",
    "    for word in words:\n",
    "        unique_words.add(word)\n",
    "    sorted_words = sorted(list(unique_words))\n",
    "    print(\"Unique words:\", sorted_words)\n",
    "extract_unique_words(\"Hello world! Hello Python. This is a simple paragraph, with some repeated words.\")\n",
    "\n"
   ]
  },
  {
   "cell_type": "markdown",
   "id": "c863b878-f964-4e9a-8ae2-02a5571cca60",
   "metadata": {},
   "source": [
    "### Question 7"
   ]
  },
  {
   "cell_type": "code",
   "execution_count": 18,
   "id": "a29df77b-5cfb-48f5-8b80-2edb198f743c",
   "metadata": {},
   "outputs": [
    {
     "name": "stdout",
     "output_type": "stream",
     "text": [
      "Even index characters: ['P', 't', 'o']\n",
      "Odd index characters: ['y', 'h', 'n']\n"
     ]
    }
   ],
   "source": [
    "def even_odd_chars(text):\n",
    "    even = []\n",
    "    odd = []\n",
    "    for i, ch in enumerate(text):\n",
    "        if i % 2 == 0:\n",
    "            even.append(ch)\n",
    "        else:\n",
    "            odd.append(ch)\n",
    "    print(\"Even index characters:\", even)\n",
    "    print(\"Odd index characters:\", odd)\n",
    "even_odd_chars(\"Python\")\n"
   ]
  },
  {
   "cell_type": "markdown",
   "id": "99c93c49-1eaa-4a9c-8a1d-90fff01ecf40",
   "metadata": {},
   "source": [
    "### Question 8"
   ]
  },
  {
   "cell_type": "code",
   "execution_count": 19,
   "id": "ba400a14-bd14-49fc-81df-04eb7ea87653",
   "metadata": {},
   "outputs": [
    {
     "name": "stdout",
     "output_type": "stream",
     "text": [
      "The strings are anagrams.\n",
      "The strings are not anagrams.\n"
     ]
    }
   ],
   "source": [
    "def check_anagram(str1, str2):\n",
    "    list1 = sorted(list(str1))\n",
    "    list2 = sorted(list(str2))\n",
    "    if list1 == list2:\n",
    "        print(\"The strings are anagrams.\")\n",
    "    else:\n",
    "        print(\"The strings are not anagrams.\")\n",
    "check_anagram(\"listen\", \"silent\")\n",
    "check_anagram(\"hello\", \"world\")\n"
   ]
  },
  {
   "cell_type": "markdown",
   "id": "99e2b895-79c5-4331-8859-099588e16b79",
   "metadata": {},
   "source": [
    "###  Question 9"
   ]
  },
  {
   "cell_type": "code",
   "execution_count": 21,
   "id": "9bbef7bc-5f72-4195-8b34-ed7675e05ca8",
   "metadata": {},
   "outputs": [
    {
     "name": "stdout",
     "output_type": "stream",
     "text": [
      "['a', 'b', 'c', 'f', 'g', 'i', 'j', 'k', 'm', 'n', 'p', 'q', 's', 't', 'u', 'v', 'x', 'y', 'z']\n"
     ]
    }
   ],
   "source": [
    "text = \"hello world\"\n",
    "letters= set(\"abcdefghijklmnopqrstuvwxyz\")\n",
    "for ch in text:\n",
    "    if ch in letters:\n",
    "        letters.remove(ch)\n",
    "print(sorted(letters))\n"
   ]
  },
  {
   "cell_type": "markdown",
   "id": "bd3388f2-73fa-48ea-956f-977dab9e8817",
   "metadata": {},
   "source": [
    "### Question 10"
   ]
  },
  {
   "cell_type": "code",
   "execution_count": 23,
   "id": "ec3efeff-13f1-4ccf-949d-2fbb34fb4ac4",
   "metadata": {},
   "outputs": [
    {
     "name": "stdout",
     "output_type": "stream",
     "text": [
      "Reversed sentence: World Hello\n"
     ]
    }
   ],
   "source": [
    "def sentence(sentence):\n",
    "    words = []  \n",
    "    for i in sentence.split():\n",
    "        words.append(i)\n",
    "    rev = words[::-1]\n",
    "    print(\"Reversed sentence:\", ' '.join(rev))\n",
    "sentence(\"Hello World \")\n"
   ]
  },
  {
   "cell_type": "code",
   "execution_count": null,
   "id": "c188546a-1cf7-409b-959b-ce769427fe44",
   "metadata": {},
   "outputs": [],
   "source": []
  }
 ],
 "metadata": {
  "kernelspec": {
   "display_name": "Python [conda env:base] *",
   "language": "python",
   "name": "conda-base-py"
  },
  "language_info": {
   "codemirror_mode": {
    "name": "ipython",
    "version": 3
   },
   "file_extension": ".py",
   "mimetype": "text/x-python",
   "name": "python",
   "nbconvert_exporter": "python",
   "pygments_lexer": "ipython3",
   "version": "3.12.7"
  }
 },
 "nbformat": 4,
 "nbformat_minor": 5
}

{
 "cells": [
  {
   "cell_type": "markdown",
   "id": "0c4f8e7c-1709-49bb-b581-f7330e0e7d04",
   "metadata": {},
   "source": [
    "### Question 1"
   ]
  },
  {
   "cell_type": "code",
   "execution_count": 1,
   "id": "868eac14417bb7e2",
   "metadata": {},
   "outputs": [
    {
     "name": "stdout",
     "output_type": "stream",
     "text": [
      "Welcome to python programming !\n"
     ]
    }
   ],
   "source": [
    "print(\"Welcome to python programming !\")"
   ]
  },
  {
   "cell_type": "markdown",
   "id": "02c6a992-f006-4e47-a1a1-6338f7349386",
   "metadata": {},
   "source": [
    "### Question 2"
   ]
  },
  {
   "cell_type": "code",
   "execution_count": 6,
   "id": "de7e8f26-4a0b-43cb-b3b9-7e15f24f0c58",
   "metadata": {},
   "outputs": [],
   "source": [
    "is_member=True\n",
    "has_discount=False"
   ]
  },
  {
   "cell_type": "code",
   "execution_count": 7,
   "id": "ba0ea8ca-a036-4128-a362-93b9b3112cb7",
   "metadata": {},
   "outputs": [
    {
     "data": {
      "text/plain": [
       "False"
      ]
     },
     "execution_count": 7,
     "metadata": {},
     "output_type": "execute_result"
    }
   ],
   "source": [
    "is_member and has_discount"
   ]
  },
  {
   "cell_type": "code",
   "execution_count": 8,
   "id": "abb04494-238e-45c9-b9d4-2508096d0066",
   "metadata": {},
   "outputs": [
    {
     "data": {
      "text/plain": [
       "True"
      ]
     },
     "execution_count": 8,
     "metadata": {},
     "output_type": "execute_result"
    }
   ],
   "source": [
    "is_member or has_discount"
   ]
  },
  {
   "cell_type": "code",
   "execution_count": 9,
   "id": "49b84e77-8199-4559-87bc-c740887c4320",
   "metadata": {},
   "outputs": [
    {
     "data": {
      "text/plain": [
       "False"
      ]
     },
     "execution_count": 9,
     "metadata": {},
     "output_type": "execute_result"
    }
   ],
   "source": [
    "not is_member"
   ]
  },
  {
   "cell_type": "markdown",
   "id": "2c930e02-f206-4d0b-baff-3c574e87800d",
   "metadata": {},
   "source": [
    "### Question 3"
   ]
  },
  {
   "cell_type": "code",
   "execution_count": 10,
   "id": "4822d2be-a8d1-4242-9d47-4486ad761b9b",
   "metadata": {},
   "outputs": [
    {
     "name": "stdout",
     "output_type": "stream",
     "text": [
      " you have purchased oil units of 14 at $ 100.450000 each  \n"
     ]
    }
   ],
   "source": [
    "product_name= \"oil\"\n",
    "quantity = 14\n",
    "unit_price = 100.45\n",
    "print(\" you have purchased %s units of %i at $ %f each  \"%(product_name,quantity,unit_price))"
   ]
  },
  {
   "cell_type": "markdown",
   "id": "fef395ed-f0c8-44db-93f3-6eb9ff6a075c",
   "metadata": {},
   "source": [
    "### Question 4"
   ]
  },
  {
   "cell_type": "code",
   "execution_count": 11,
   "id": "61ea906b-da39-4cc3-9d6d-9276a508feba",
   "metadata": {},
   "outputs": [
    {
     "name": "stdout",
     "output_type": "stream",
     "text": [
      "False\n"
     ]
    }
   ],
   "source": [
    "is_active_user = False\n",
    "print(is_active_user)"
   ]
  },
  {
   "cell_type": "markdown",
   "id": "d5acd20e-544c-41ae-af85-4353b29f9a4f",
   "metadata": {},
   "source": [
    "### Question 5"
   ]
  },
  {
   "cell_type": "code",
   "execution_count": 12,
   "id": "2ff59eab-61b6-46aa-850a-d7d3993f5001",
   "metadata": {
    "jupyter": {
     "is_executing": true
    }
   },
   "outputs": [
    {
     "name": "stdin",
     "output_type": "stream",
     "text": [
      "enter the length 3\n",
      "enter the width 3\n"
     ]
    },
    {
     "name": "stdout",
     "output_type": "stream",
     "text": [
      "area of rectangle : 9\n"
     ]
    },
    {
     "data": {
      "text/plain": [
       "3.0"
      ]
     },
     "execution_count": 12,
     "metadata": {},
     "output_type": "execute_result"
    }
   ],
   "source": [
    "leng=int(input(\"enter the length\"))\n",
    "widt=int(input(\"enter the width\"))        \n",
    "area = leng * widt\n",
    "print(\"area of rectangle :\",area)\n",
    "float(leng)\n",
    "\n",
    "\n"
   ]
  },
  {
   "cell_type": "markdown",
   "id": "544a14b9-f161-4159-93e2-225043588276",
   "metadata": {},
   "source": [
    "### Question 6"
   ]
  },
  {
   "cell_type": "code",
   "execution_count": 21,
   "id": "f32bf523-b22f-4dba-89ee-5e15d1650f2a",
   "metadata": {},
   "outputs": [
    {
     "name": "stdout",
     "output_type": "stream",
     "text": [
      "1250\n"
     ]
    }
   ],
   "source": [
    "initial_balance = 1000\n",
    "initial_balance = initial_balance + 250\n",
    "print(initial_balance)\n"
   ]
  },
  {
   "cell_type": "code",
   "execution_count": 25,
   "id": "e14ecfb8-bf07-4f55-ab74-9e87881fd85f",
   "metadata": {},
   "outputs": [
    {
     "name": "stdout",
     "output_type": "stream",
     "text": [
      "500.0\n"
     ]
    }
   ],
   "source": [
    "initial_balance = 1000\n",
    "initial_balance = initial_balance / 2\n",
    "print(initial_balance)\n"
   ]
  },
  {
   "cell_type": "code",
   "execution_count": 27,
   "id": "ad63e3dd-2b43-4ae6-b0fc-bad230c5f4e9",
   "metadata": {},
   "outputs": [
    {
     "data": {
      "text/plain": [
       "False"
      ]
     },
     "execution_count": 27,
     "metadata": {},
     "output_type": "execute_result"
    }
   ],
   "source": [
    "initial_balance = 1000\n",
    "initial_balance < 600"
   ]
  },
  {
   "cell_type": "markdown",
   "id": "f4f2f3b6-e225-415c-8c10-ecb9f0fd760b",
   "metadata": {},
   "source": [
    "### Question 7"
   ]
  },
  {
   "cell_type": "code",
   "execution_count": 13,
   "id": "5ee3573b-ab49-4993-9edb-ed93b218aaa5",
   "metadata": {},
   "outputs": [
    {
     "data": {
      "text/plain": [
       "24.0"
      ]
     },
     "execution_count": 13,
     "metadata": {},
     "output_type": "execute_result"
    }
   ],
   "source": [
    "15+4*3-9/3\n",
    "#first division\n",
    "#second multiplication\n",
    "#third addition\n",
    "#forth substraction"
   ]
  },
  {
   "cell_type": "markdown",
   "id": "83b388b3-8fdb-459c-a638-7c7639dd86f0",
   "metadata": {},
   "source": [
    "### Question 8"
   ]
  },
  {
   "cell_type": "code",
   "execution_count": 16,
   "id": "d3421673-aa41-422a-91f4-1070489b7dc4",
   "metadata": {},
   "outputs": [
    {
     "name": "stdin",
     "output_type": "stream",
     "text": [
      "enter the fav decimal number 4\n"
     ]
    },
    {
     "data": {
      "text/plain": [
       "14.5"
      ]
     },
     "execution_count": 16,
     "metadata": {},
     "output_type": "execute_result"
    }
   ],
   "source": [
    "decimal_num = input(\"enter the fav decimal number\")\n",
    "float(decimal_num)+10.5\n"
   ]
  },
  {
   "cell_type": "markdown",
   "id": "5f738cf8-8a0e-49db-8356-4276b17f13da",
   "metadata": {},
   "source": [
    "### Question 9"
   ]
  },
  {
   "cell_type": "code",
   "execution_count": 15,
   "id": "e5e166ca-5045-40a1-b2ee-e9f3f78c68e0",
   "metadata": {},
   "outputs": [
    {
     "name": "stdin",
     "output_type": "stream",
     "text": [
      "enter the favourite color red\n"
     ]
    },
    {
     "name": "stdout",
     "output_type": "stream",
     "text": [
      "your favourite color is red \n"
     ]
    }
   ],
   "source": [
    "color = input(\"enter the favourite color\")\n",
    "print(\"your favourite color is %s \" %(color)) \n"
   ]
  },
  {
   "cell_type": "markdown",
   "id": "5b1768ad-c80f-4f5a-bf39-5592a5e31d05",
   "metadata": {},
   "source": [
    "### Question 10 "
   ]
  },
  {
   "cell_type": "code",
   "execution_count": 29,
   "id": "18fb8b97-eece-4cf7-ad3d-5c9c6e3dd937",
   "metadata": {},
   "outputs": [
    {
     "name": "stdout",
     "output_type": "stream",
     "text": [
      "Basic contact information \n"
     ]
    },
    {
     "name": "stdin",
     "output_type": "stream",
     "text": [
      "enter the first name : vaishnavi\n",
      "enter the last name : patil\n",
      "enter the phone number : 9689499467\n"
     ]
    },
    {
     "name": "stdout",
     "output_type": "stream",
     "text": [
      " contact information saved for : vaishnavi  patil ( phone : 9689499467) \n"
     ]
    }
   ],
   "source": [
    "print(\"Basic contact information \")\n",
    "f_name = input(\"enter the first name :\")\n",
    "l_name = input(\"enter the last name :\")\n",
    "phone_no= input(\"enter the phone number :\")\n",
    "print(\" contact information saved for : %s  %s ( phone : %s) \" %(f_name,l_name,phone_no) )"
   ]
  },
  {
   "cell_type": "code",
   "execution_count": null,
   "id": "fadce8f2-0e02-47e5-b32f-97419d5e17df",
   "metadata": {},
   "outputs": [],
   "source": []
  }
 ],
 "metadata": {
  "kernelspec": {
   "display_name": "Python [conda env:base] *",
   "language": "python",
   "name": "conda-base-py"
  },
  "language_info": {
   "codemirror_mode": {
    "name": "ipython",
    "version": 3
   },
   "file_extension": ".py",
   "mimetype": "text/x-python",
   "name": "python",
   "nbconvert_exporter": "python",
   "pygments_lexer": "ipython3",
   "version": "3.12.7"
  }
 },
 "nbformat": 4,
 "nbformat_minor": 5
}

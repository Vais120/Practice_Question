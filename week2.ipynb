{
 "cells": [
  {
   "cell_type": "markdown",
   "id": "ef2d979e-0773-40e1-a0b3-36eff9e4deca",
   "metadata": {},
   "source": [
    "### Question 1"
   ]
  },
  {
   "cell_type": "code",
   "execution_count": 2,
   "id": "063bf2dd-a6df-4f4f-a477-e4ec5e1c64f0",
   "metadata": {},
   "outputs": [],
   "source": [
    "my_list =[1,20,30,40,50,60]\n"
   ]
  },
  {
   "cell_type": "code",
   "execution_count": 5,
   "id": "676e0156-81b4-45e2-a4ce-8b2b26de9d8f",
   "metadata": {},
   "outputs": [
    {
     "data": {
      "text/plain": [
       "[1, 20, 35, 40, 50, 60]"
      ]
     },
     "execution_count": 5,
     "metadata": {},
     "output_type": "execute_result"
    }
   ],
   "source": [
    "my_list[2]=35\n",
    "my_list"
   ]
  },
  {
   "cell_type": "code",
   "execution_count": 7,
   "id": "8852b8b8-a6ba-406d-9d23-192016bd0c0b",
   "metadata": {},
   "outputs": [
    {
     "data": {
      "text/plain": [
       "[1, 20, 35, 40, 50, 60, 70, 70]"
      ]
     },
     "execution_count": 7,
     "metadata": {},
     "output_type": "execute_result"
    }
   ],
   "source": [
    "my_list.append(70)\n",
    "my_list"
   ]
  },
  {
   "cell_type": "code",
   "execution_count": 8,
   "id": "dbc9cc8a-4226-42dc-8097-15b87cd74b90",
   "metadata": {},
   "outputs": [
    {
     "data": {
      "text/plain": [
       "[5, 1, 20, 35, 40, 50, 60, 70, 70]"
      ]
     },
     "execution_count": 8,
     "metadata": {},
     "output_type": "execute_result"
    }
   ],
   "source": [
    "my_list.insert(0,5)\n",
    "my_list"
   ]
  },
  {
   "cell_type": "code",
   "execution_count": 9,
   "id": "ae217123-6a85-45fa-85e0-c7bda32e0a69",
   "metadata": {},
   "outputs": [
    {
     "data": {
      "text/plain": [
       "[5, 1, 20, 35, 50, 60, 70, 70]"
      ]
     },
     "execution_count": 9,
     "metadata": {},
     "output_type": "execute_result"
    }
   ],
   "source": [
    "my_list.remove(40)\n",
    "my_list"
   ]
  },
  {
   "cell_type": "code",
   "execution_count": 10,
   "id": "4b0b1298-17e1-4520-8c74-97024f93f656",
   "metadata": {},
   "outputs": [
    {
     "data": {
      "text/plain": [
       "[5, 1, 20, 35, 50, 60, 70, 70]"
      ]
     },
     "execution_count": 10,
     "metadata": {},
     "output_type": "execute_result"
    }
   ],
   "source": [
    "my_list"
   ]
  },
  {
   "cell_type": "markdown",
   "id": "941c0b45-6d0e-41f7-a624-90f235c7a76a",
   "metadata": {},
   "source": [
    "### Question 2"
   ]
  },
  {
   "cell_type": "code",
   "execution_count": 24,
   "id": "ce094494-7617-4ce3-8edd-e8403ce9c71b",
   "metadata": {},
   "outputs": [
    {
     "name": "stdout",
     "output_type": "stream",
     "text": [
      "sum: 126\n"
     ]
    }
   ],
   "source": [
    "numbers=[12,7,23,48,15,66,9]\n",
    "sum=0\n",
    "for i in numbers :\n",
    "    if i%2==0:\n",
    "        sum=sum+i \n",
    "print(\"sum:\",sum)      "
   ]
  },
  {
   "cell_type": "markdown",
   "id": "e758292a-0a95-45a3-8ebd-504864bd58f9",
   "metadata": {},
   "source": [
    "### Question 3"
   ]
  },
  {
   "cell_type": "code",
   "execution_count": 27,
   "id": "f54d7a60-0035-48ff-971f-287c8197fa13",
   "metadata": {},
   "outputs": [
    {
     "name": "stdout",
     "output_type": "stream",
     "text": [
      "['elderberry', 'date', 'cherry', 'banana', 'apple']\n"
     ]
    }
   ],
   "source": [
    "data=['apple','banana','cherry','date','elderberry']\n",
    "for i in data:\n",
    "    data=sorted(data,reverse=True)\n",
    "print(data)  \n",
    "    "
   ]
  },
  {
   "cell_type": "markdown",
   "id": "c74d2869-fdcb-4b55-b88b-64b96be2b231",
   "metadata": {},
   "source": [
    "### Question 4"
   ]
  },
  {
   "cell_type": "code",
   "execution_count": 28,
   "id": "7868dfd7-773c-4f7b-abe2-330628dc6f83",
   "metadata": {},
   "outputs": [
    {
     "name": "stdout",
     "output_type": "stream",
     "text": [
      "maximun : 8\n",
      "maximun : 2\n",
      "maximun : 10\n",
      "maximun : 5\n",
      "maximun : 17\n",
      "maximun : 3\n",
      "maximun : 14\n"
     ]
    }
   ],
   "source": [
    "list=[8,2,10,5,17,3,14]\n",
    "max =0\n",
    "for i in list :\n",
    "    if max < i :\n",
    "        print(\"maximun :\",i)\n"
   ]
  },
  {
   "cell_type": "markdown",
   "id": "4aac8fdd-a43c-42a4-a07c-f1ad5b49b382",
   "metadata": {},
   "source": [
    "### Question 5"
   ]
  },
  {
   "cell_type": "code",
   "execution_count": 2,
   "id": "2b024e02-544f-4511-9181-c38dd4745d03",
   "metadata": {},
   "outputs": [
    {
     "name": "stdout",
     "output_type": "stream",
     "text": [
      "count of red : 3\n"
     ]
    }
   ],
   "source": [
    "items = ['red', 'blue', 'green', 'red', 'yellow', 'blue', 'red']\n",
    "count = 0\n",
    "for i in items :\n",
    "    if i == 'red':\n",
    "        count = count + 1\n",
    "print(\"count of red :\",count)        "
   ]
  },
  {
   "cell_type": "markdown",
   "id": "c38d77eb-3762-4fad-83c4-e687a6888916",
   "metadata": {},
   "source": [
    "### Question 6 "
   ]
  },
  {
   "cell_type": "code",
   "execution_count": 5,
   "id": "2d698071-800c-4f50-93dd-523a7db65522",
   "metadata": {},
   "outputs": [
    {
     "name": "stdout",
     "output_type": "stream",
     "text": [
      "[1, 2, 3, 4]\n"
     ]
    }
   ],
   "source": [
    "mixed_numbers = [1, 5, 2, 5, 3, 5, 4, 5]\n",
    "result = []\n",
    "for i in mixed_numbers :\n",
    "    if i != 5 :\n",
    "        result.append(i)\n",
    "print(result)        "
   ]
  },
  {
   "cell_type": "markdown",
   "id": "63927419-800a-4c28-bc74-89595d4e33b9",
   "metadata": {},
   "source": [
    "### Question 7"
   ]
  },
  {
   "cell_type": "code",
   "execution_count": 8,
   "id": "d5f441c4-803f-40f3-940f-7116400847b7",
   "metadata": {},
   "outputs": [
    {
     "name": "stdout",
     "output_type": "stream",
     "text": [
      "list1: Palindrome\n",
      "list2: Not a Palindrome\n"
     ]
    }
   ],
   "source": [
    "l1 = [1, 2, 3, 2, 1]\n",
    "is_palindrome = True\n",
    "\n",
    "for i in range(len(l1) // 2):\n",
    "    if l1[i] != l1[len(l1) - 1 - i]:\n",
    "        is_palindrome = False\n",
    "        break\n",
    "\n",
    "if is_palindrome:\n",
    "    print(\"list1: Palindrome\")\n",
    "else:\n",
    "    print(\"list1: Not a Palindrome\")\n",
    "l2 = ['a', 'b', 'c', 'b', 'd']\n",
    "is_palindrome = True\n",
    "\n",
    "for i in range(len(l2) // 2):\n",
    "    if l2[i] != l2[len(l2) - 1 - i]:\n",
    "        is_palindrome = False\n",
    "        break\n",
    "\n",
    "if is_palindrome:\n",
    "    print(\"list2: Palindrome\")\n",
    "else:\n",
    "    print(\"list2: Not a Palindrome\")\n"
   ]
  },
  {
   "cell_type": "markdown",
   "id": "2a76b45d-b4d6-4798-b9b3-2487ef565446",
   "metadata": {},
   "source": [
    "### Question 8"
   ]
  },
  {
   "cell_type": "code",
   "execution_count": 9,
   "id": "90005bf6-b9d2-4b63-a3ea-a9715c31f2a4",
   "metadata": {},
   "outputs": [
    {
     "name": "stdout",
     "output_type": "stream",
     "text": [
      "[0, 1, 2, 3, 4, 5]\n"
     ]
    }
   ],
   "source": [
    "a = [3, 1, 4]\n",
    "b = [2, 5, 0]\n",
    "combined = a + b\n",
    "for i in range(len(combined)):\n",
    "    for j in range(len(combined) - 1):\n",
    "        if combined[j] > combined[j + 1]:\n",
    "            combined[j], combined[j + 1] = combined[j + 1], combined[j]\n",
    "\n",
    "print(combined)\n"
   ]
  },
  {
   "cell_type": "markdown",
   "id": "35b21c28-50b6-4486-9d5e-9db6cea56908",
   "metadata": {},
   "source": [
    "### Question 9 "
   ]
  },
  {
   "cell_type": "code",
   "execution_count": 10,
   "id": "7948d486-1d33-43e1-8420-6e7ac5511f82",
   "metadata": {},
   "outputs": [
    {
     "name": "stdout",
     "output_type": "stream",
     "text": [
      "[1, 2, 3, 4, 5, 6, 7, 8]\n"
     ]
    }
   ],
   "source": [
    "nested_list = [1, [2, 3], 4, [5, 6, 7], 8]\n",
    "flat_list = []\n",
    "for item in nested_list:\n",
    "    if isinstance(item, list):\n",
    "        for i in item:\n",
    "            flat_list.append(i)\n",
    "    else:\n",
    "        flat_list.append(item)\n",
    "print(flat_list)\n"
   ]
  },
  {
   "cell_type": "markdown",
   "id": "01455743-78d8-4b02-bcfd-78d1f2da99a0",
   "metadata": {},
   "source": [
    "### Question 10"
   ]
  },
  {
   "cell_type": "code",
   "execution_count": 11,
   "id": "6073497a-6e1a-4a56-bd5d-301fb875a91a",
   "metadata": {},
   "outputs": [
    {
     "name": "stdout",
     "output_type": "stream",
     "text": [
      "Common elements: [4, 5]\n"
     ]
    }
   ],
   "source": [
    "p = [1, 2, 3, 4, 5]\n",
    "q = [4, 5, 6, 7, 8]\n",
    "\n",
    "common = []\n",
    "\n",
    "for item in p:\n",
    "    if item in q:\n",
    "        common.append(item)\n",
    "\n",
    "print(\"Common elements:\", common)\n"
   ]
  },
  {
   "cell_type": "code",
   "execution_count": null,
   "id": "408c83b0-24a1-4e2c-8303-a51314cd6880",
   "metadata": {},
   "outputs": [],
   "source": []
  }
 ],
 "metadata": {
  "kernelspec": {
   "display_name": "Python [conda env:base] *",
   "language": "python",
   "name": "conda-base-py"
  },
  "language_info": {
   "codemirror_mode": {
    "name": "ipython",
    "version": 3
   },
   "file_extension": ".py",
   "mimetype": "text/x-python",
   "name": "python",
   "nbconvert_exporter": "python",
   "pygments_lexer": "ipython3",
   "version": "3.12.7"
  }
 },
 "nbformat": 4,
 "nbformat_minor": 5
}
